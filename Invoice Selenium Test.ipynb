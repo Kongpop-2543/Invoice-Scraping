{
 "cells": [
  {
   "cell_type": "code",
   "execution_count": 68,
   "id": "445e264b",
   "metadata": {},
   "outputs": [
    {
     "name": "stdout",
     "output_type": "stream",
     "text": [
      "Requirement already satisfied: selenium in c:\\users\\kaewt\\anaconda3\\lib\\site-packages (4.19.0)\n",
      "Requirement already satisfied: urllib3<3,>=1.26 in c:\\users\\kaewt\\anaconda3\\lib\\site-packages (from urllib3[socks]<3,>=1.26->selenium) (1.26.16)\n",
      "Requirement already satisfied: trio~=0.17 in c:\\users\\kaewt\\anaconda3\\lib\\site-packages (from selenium) (0.25.0)\n",
      "Requirement already satisfied: trio-websocket~=0.9 in c:\\users\\kaewt\\anaconda3\\lib\\site-packages (from selenium) (0.11.1)\n",
      "Requirement already satisfied: certifi>=2021.10.8 in c:\\users\\kaewt\\anaconda3\\lib\\site-packages (from selenium) (2023.7.22)\n",
      "Requirement already satisfied: typing_extensions>=4.9.0 in c:\\users\\kaewt\\anaconda3\\lib\\site-packages (from selenium) (4.11.0)\n",
      "Requirement already satisfied: attrs>=23.2.0 in c:\\users\\kaewt\\anaconda3\\lib\\site-packages (from trio~=0.17->selenium) (23.2.0)\n",
      "Requirement already satisfied: sortedcontainers in c:\\users\\kaewt\\anaconda3\\lib\\site-packages (from trio~=0.17->selenium) (2.4.0)\n",
      "Requirement already satisfied: idna in c:\\users\\kaewt\\anaconda3\\lib\\site-packages (from trio~=0.17->selenium) (3.4)\n",
      "Requirement already satisfied: outcome in c:\\users\\kaewt\\anaconda3\\lib\\site-packages (from trio~=0.17->selenium) (1.3.0.post0)\n",
      "Requirement already satisfied: sniffio>=1.3.0 in c:\\users\\kaewt\\anaconda3\\lib\\site-packages (from trio~=0.17->selenium) (1.3.1)\n",
      "Requirement already satisfied: cffi>=1.14 in c:\\users\\kaewt\\anaconda3\\lib\\site-packages (from trio~=0.17->selenium) (1.15.1)\n",
      "Requirement already satisfied: wsproto>=0.14 in c:\\users\\kaewt\\anaconda3\\lib\\site-packages (from trio-websocket~=0.9->selenium) (1.2.0)\n",
      "Requirement already satisfied: PySocks!=1.5.7,<2.0,>=1.5.6 in c:\\users\\kaewt\\anaconda3\\lib\\site-packages (from urllib3[socks]<3,>=1.26->selenium) (1.7.1)\n",
      "Requirement already satisfied: pycparser in c:\\users\\kaewt\\anaconda3\\lib\\site-packages (from cffi>=1.14->trio~=0.17->selenium) (2.21)\n",
      "Requirement already satisfied: h11<1,>=0.9.0 in c:\\users\\kaewt\\anaconda3\\lib\\site-packages (from wsproto>=0.14->trio-websocket~=0.9->selenium) (0.14.0)\n",
      "Requirement already satisfied: webdriver-manager in c:\\users\\kaewt\\anaconda3\\lib\\site-packages (4.0.1)\n",
      "Requirement already satisfied: requests in c:\\users\\kaewt\\anaconda3\\lib\\site-packages (from webdriver-manager) (2.31.0)\n",
      "Requirement already satisfied: python-dotenv in c:\\users\\kaewt\\anaconda3\\lib\\site-packages (from webdriver-manager) (1.0.1)\n",
      "Requirement already satisfied: packaging in c:\\users\\kaewt\\anaconda3\\lib\\site-packages (from webdriver-manager) (23.0)\n",
      "Requirement already satisfied: charset-normalizer<4,>=2 in c:\\users\\kaewt\\anaconda3\\lib\\site-packages (from requests->webdriver-manager) (2.0.4)\n",
      "Requirement already satisfied: idna<4,>=2.5 in c:\\users\\kaewt\\anaconda3\\lib\\site-packages (from requests->webdriver-manager) (3.4)\n",
      "Requirement already satisfied: urllib3<3,>=1.21.1 in c:\\users\\kaewt\\anaconda3\\lib\\site-packages (from requests->webdriver-manager) (1.26.16)\n",
      "Requirement already satisfied: certifi>=2017.4.17 in c:\\users\\kaewt\\anaconda3\\lib\\site-packages (from requests->webdriver-manager) (2023.7.22)\n",
      "Requirement already satisfied: requests in c:\\users\\kaewt\\anaconda3\\lib\\site-packages (2.31.0)\n",
      "Requirement already satisfied: charset-normalizer<4,>=2 in c:\\users\\kaewt\\anaconda3\\lib\\site-packages (from requests) (2.0.4)\n",
      "Requirement already satisfied: idna<4,>=2.5 in c:\\users\\kaewt\\anaconda3\\lib\\site-packages (from requests) (3.4)\n",
      "Requirement already satisfied: urllib3<3,>=1.21.1 in c:\\users\\kaewt\\anaconda3\\lib\\site-packages (from requests) (1.26.16)\n",
      "Requirement already satisfied: certifi>=2017.4.17 in c:\\users\\kaewt\\anaconda3\\lib\\site-packages (from requests) (2023.7.22)\n"
     ]
    }
   ],
   "source": [
    "!pip install selenium\n",
    "!pip install webdriver-manager\n",
    "!pip install requests"
   ]
  },
  {
   "cell_type": "code",
   "execution_count": 1,
   "id": "e25368c9",
   "metadata": {},
   "outputs": [],
   "source": [
    "import pandas as pd\n",
    "from selenium import webdriver\n",
    "from selenium.webdriver.common.keys import Keys\n",
    "from selenium.webdriver.chrome.service import Service\n",
    "from webdriver_manager.chrome import ChromeDriverManager\n",
    "from selenium.webdriver.common.by import By\n",
    "import bs4\n",
    "import time\n",
    "import re\n",
    "import requests\n",
    "import openpyxl"
   ]
  },
  {
   "cell_type": "code",
   "execution_count": 12,
   "id": "cf54d82e",
   "metadata": {},
   "outputs": [],
   "source": [
    "driver = webdriver.Chrome(service=Service(ChromeDriverManager().install()))\n",
    "driver.get(\"https://secure.zortout.com/\")"
   ]
  },
  {
   "cell_type": "markdown",
   "id": "8c15fc27",
   "metadata": {},
   "source": [
    "### fill in username and password"
   ]
  },
  {
   "cell_type": "code",
   "execution_count": 13,
   "id": "579320f0",
   "metadata": {},
   "outputs": [],
   "source": [
    "user_email = \"Kongpopk@mitrbangkok.com\"\n",
    "user_password = \"Mitr279279\""
   ]
  },
  {
   "cell_type": "code",
   "execution_count": 14,
   "id": "9b6b1f43",
   "metadata": {},
   "outputs": [],
   "source": [
    "username = driver.find_element(By.XPATH, '//*[@id=\"usernametxt\"]')\n",
    "username.send_keys(user_email)\n",
    "\n",
    "password = driver.find_element(By.XPATH, '//*[@id=\"passwordtxt\"]')\n",
    "password.send_keys(user_password)"
   ]
  },
  {
   "cell_type": "code",
   "execution_count": 15,
   "id": "5ead305f",
   "metadata": {},
   "outputs": [],
   "source": [
    "#enter click to find what we fill\n",
    "click = driver.find_element(By.XPATH,\"/html/body/div[1]/div/div[2]/div/button\").send_keys(Keys.ENTER)"
   ]
  },
  {
   "cell_type": "markdown",
   "id": "cc4c66a7",
   "metadata": {},
   "source": [
    "#### click รายการขาย"
   ]
  },
  {
   "cell_type": "code",
   "execution_count": 9,
   "id": "75aa04a8",
   "metadata": {},
   "outputs": [],
   "source": [
    "driver.find_element(By.XPATH,'//*[@id=\"tour-sellmenu\"]/a').send_keys(Keys.ENTER)"
   ]
  },
  {
   "cell_type": "markdown",
   "id": "f5d25f93",
   "metadata": {},
   "source": [
    "#### Click ดูรายการขาย"
   ]
  },
  {
   "cell_type": "code",
   "execution_count": 10,
   "id": "e23ddc55",
   "metadata": {},
   "outputs": [],
   "source": [
    "driver.find_element(By.XPATH,'//*[@id=\"sell\"]/li[3]/a').send_keys(Keys.ENTER)"
   ]
  },
  {
   "cell_type": "markdown",
   "id": "fb11e7dc",
   "metadata": {},
   "source": [
    "### url loop test"
   ]
  },
  {
   "cell_type": "code",
   "execution_count": 7,
   "id": "1609630d",
   "metadata": {},
   "outputs": [],
   "source": [
    "url_id = [178597811, 178529912] #, 166987718, 166986966, 166986948, 166986667, 166986308"
   ]
  },
  {
   "cell_type": "code",
   "execution_count": 8,
   "id": "df270401",
   "metadata": {},
   "outputs": [],
   "source": [
    "driver.get(f'https://secure.zortout.com/Sell/Details?&tid={url_id}')"
   ]
  },
  {
   "cell_type": "code",
   "execution_count": 9,
   "id": "122de0eb",
   "metadata": {},
   "outputs": [
    {
     "name": "stdout",
     "output_type": "stream",
     "text": [
      "entry to url : 178597811 successfully\n",
      "entry to url : 178529912 successfully\n"
     ]
    }
   ],
   "source": [
    "for url in url_id:\n",
    "    driver.get(f'https://secure.zortout.com/Sell/Details?&tid={url}')\n",
    "    print(f'entry to url : {url} successfully')\n",
    "    time.sleep(5)\n"
   ]
  },
  {
   "cell_type": "markdown",
   "id": "79ab0f54",
   "metadata": {},
   "source": [
    "### test click SO to peak\n",
    "- Test Order : **SO-202407349, 852514492345573**\n",
    "- Order ID : 178605168, 165012403\n",
    "- url : https://secure.zortout.com/Sell/Details?&tid=178605168, https://secure.zortout.com/Sell/Details?&tid=165012403\n",
    "- Sku : ACY1178-01-03[0]\n",
    "- Sale Channel : Head Office[0]\n",
    "- Payment Channel : ส่งเสริมการขาย[0]"
   ]
  },
  {
   "cell_type": "code",
   "execution_count": 54,
   "id": "9e04074d",
   "metadata": {},
   "outputs": [],
   "source": [
    "# get url\n",
    "driver.get('https://secure.zortout.com/Sell/Details?&tid=178605168')"
   ]
  },
  {
   "cell_type": "code",
   "execution_count": 51,
   "id": "73ba4e1d",
   "metadata": {},
   "outputs": [],
   "source": [
    "# click Accounting\n",
    "driver.find_element(By.XPATH,'//*[@id=\"sell_btnpeak\"]').send_keys(Keys.ENTER)"
   ]
  },
  {
   "cell_type": "code",
   "execution_count": 52,
   "id": "613e4085",
   "metadata": {},
   "outputs": [],
   "source": [
    "# Click ส่งข้อมูลใบเสร็จรับเงินไป Peak\n",
    "driver.find_element(By.XPATH,'//*[@id=\"peakarea\"]/div/ul/li/a').send_keys(Keys.ENTER)"
   ]
  },
  {
   "cell_type": "code",
   "execution_count": 53,
   "id": "ca0e57f1",
   "metadata": {},
   "outputs": [],
   "source": [
    "# Click ยืนยันเพื่อส่งข้อมูลไป peak\n",
    "driver.find_element(By.XPATH,'//*[@id=\"confirmModal\"]/div/div/div[3]/div/button[2]').send_keys(Keys.ENTER)"
   ]
  },
  {
   "cell_type": "code",
   "execution_count": 61,
   "id": "2f92b9a5",
   "metadata": {},
   "outputs": [],
   "source": [
    "driver.refresh()"
   ]
  },
  {
   "cell_type": "markdown",
   "id": "f45e8203",
   "metadata": {},
   "source": [
    "### loop url ส่งข้อมูลไป peak"
   ]
  },
  {
   "cell_type": "code",
   "execution_count": 78,
   "id": "51ee0f19",
   "metadata": {},
   "outputs": [],
   "source": [
    "url_list = [178605168, 165012403]"
   ]
  },
  {
   "cell_type": "code",
   "execution_count": 79,
   "id": "becd59c3",
   "metadata": {},
   "outputs": [
    {
     "name": "stdout",
     "output_type": "stream",
     "text": [
      "entry to url : 178605168 successfully\n",
      "entry to url : 165012403 successfully\n"
     ]
    }
   ],
   "source": [
    "for url in url_list:\n",
    "    driver.get(f'https://secure.zortout.com/Sell/Details?&tid={url}')\n",
    "    driver.find_element(By.XPATH,'//*[@id=\"sell_btnpeak\"]').send_keys(Keys.ENTER)\n",
    "    driver.find_element(By.XPATH,'//*[@id=\"peakarea\"]/div/ul/li/a').send_keys(Keys.ENTER)\n",
    "    time.sleep(2)\n",
    "    driver.find_element(By.XPATH,'//*[@id=\"confirmModal\"]/div/div/div[3]/div/button[2]').send_keys(Keys.ENTER)\n",
    "    print(f'entry to url : {url} successfully')\n",
    "    time.sleep(5)"
   ]
  },
  {
   "cell_type": "code",
   "execution_count": 63,
   "id": "ee498228",
   "metadata": {},
   "outputs": [
    {
     "data": {
      "text/plain": [
       "['18BBC30ECBBC5A50D7F01920061EAF85']"
      ]
     },
     "execution_count": 63,
     "metadata": {},
     "output_type": "execute_result"
    }
   ],
   "source": [
    "driver.window_handles"
   ]
  },
  {
   "cell_type": "code",
   "execution_count": 64,
   "id": "72452a7b",
   "metadata": {},
   "outputs": [
    {
     "data": {
      "text/plain": [
       "'852514492345573 : รายละเอียดรายการขาย'"
      ]
     },
     "execution_count": 64,
     "metadata": {},
     "output_type": "execute_result"
    }
   ],
   "source": [
    "driver.title"
   ]
  },
  {
   "cell_type": "code",
   "execution_count": 10,
   "id": "4114430f",
   "metadata": {},
   "outputs": [],
   "source": [
    "driver.close()"
   ]
  },
  {
   "cell_type": "markdown",
   "id": "39613f41",
   "metadata": {},
   "source": [
    "## Test การใส่ sku in promotion"
   ]
  },
  {
   "cell_type": "code",
   "execution_count": 16,
   "id": "74ab8b77",
   "metadata": {},
   "outputs": [],
   "source": [
    "driver.get(f'https://secure.zortout.com/Promotion/BundleList')"
   ]
  },
  {
   "cell_type": "code",
   "execution_count": 17,
   "id": "3af1c7ef",
   "metadata": {},
   "outputs": [],
   "source": [
    "\n",
    "driver.find_element(By.XPATH,'/html/body/div[4]/section/div[1]/div/div[1]/div[2]/button').send_keys(Keys.ENTER)"
   ]
  },
  {
   "cell_type": "code",
   "execution_count": null,
   "id": "2fe7bb6c",
   "metadata": {},
   "outputs": [],
   "source": []
  }
 ],
 "metadata": {
  "kernelspec": {
   "display_name": "Python 3 (ipykernel)",
   "language": "python",
   "name": "python3"
  },
  "language_info": {
   "codemirror_mode": {
    "name": "ipython",
    "version": 3
   },
   "file_extension": ".py",
   "mimetype": "text/x-python",
   "name": "python",
   "nbconvert_exporter": "python",
   "pygments_lexer": "ipython3",
   "version": "3.11.4"
  }
 },
 "nbformat": 4,
 "nbformat_minor": 5
}
