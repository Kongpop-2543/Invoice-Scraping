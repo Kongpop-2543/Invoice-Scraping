{
 "cells": [
  {
   "cell_type": "code",
   "execution_count": null,
   "id": "445e264b",
   "metadata": {},
   "outputs": [],
   "source": [
    "!pip install selenium\n",
    "!pip install webdriver-manager\n",
    "!pip install requests"
   ]
  },
  {
   "cell_type": "code",
   "execution_count": 1,
   "id": "e25368c9",
   "metadata": {},
   "outputs": [],
   "source": [
    "import pandas as pd\n",
    "from selenium import webdriver\n",
    "from selenium.webdriver.common.keys import Keys\n",
    "from selenium.webdriver.chrome.service import Service\n",
    "from webdriver_manager.chrome import ChromeDriverManager\n",
    "from selenium.webdriver.common.by import By\n",
    "import bs4\n",
    "import time\n",
    "import re\n",
    "import requests\n",
    "import openpyxl"
   ]
  },
  {
   "cell_type": "code",
   "execution_count": 28,
   "id": "cf54d82e",
   "metadata": {},
   "outputs": [],
   "source": [
    "driver = webdriver.Chrome(service=Service(ChromeDriverManager().install()))\n",
    "driver.get(\"https://secure.zortout.com/\")"
   ]
  },
  {
   "cell_type": "markdown",
   "id": "8c15fc27",
   "metadata": {},
   "source": [
    "### fill in username and password"
   ]
  },
  {
   "cell_type": "code",
   "execution_count": 29,
   "id": "579320f0",
   "metadata": {},
   "outputs": [],
   "source": [
    "user_email = \"Kongpopk@mitrbangkok.com\"\n",
    "user_password = \"Mitr279279\""
   ]
  },
  {
   "cell_type": "code",
   "execution_count": 30,
   "id": "9b6b1f43",
   "metadata": {},
   "outputs": [],
   "source": [
    "username = driver.find_element(By.XPATH, '//*[@id=\"usernametxt\"]')\n",
    "username.send_keys(user_email)\n",
    "\n",
    "password = driver.find_element(By.XPATH, '//*[@id=\"passwordtxt\"]')\n",
    "password.send_keys(user_password)"
   ]
  },
  {
   "cell_type": "code",
   "execution_count": 31,
   "id": "5ead305f",
   "metadata": {},
   "outputs": [],
   "source": [
    "#enter click to find what we fill\n",
    "click = driver.find_element(By.XPATH,\"/html/body/div[1]/div/div[2]/div/button\").send_keys(Keys.ENTER)"
   ]
  },
  {
   "cell_type": "markdown",
   "id": "cc4c66a7",
   "metadata": {},
   "source": [
    "#### click รายการขาย"
   ]
  },
  {
   "cell_type": "code",
   "execution_count": 32,
   "id": "75aa04a8",
   "metadata": {},
   "outputs": [],
   "source": [
    "driver.find_element(By.XPATH,'//*[@id=\"tour-sellmenu\"]/a').send_keys(Keys.ENTER)"
   ]
  },
  {
   "cell_type": "markdown",
   "id": "f5d25f93",
   "metadata": {},
   "source": [
    "#### Click ดูรายการขาย"
   ]
  },
  {
   "cell_type": "code",
   "execution_count": null,
   "id": "e23ddc55",
   "metadata": {},
   "outputs": [],
   "source": [
    "driver.find_element(By.XPATH,'//*[@id=\"sell\"]/li[3]/a').send_keys(Keys.ENTER)"
   ]
  },
  {
   "cell_type": "markdown",
   "id": "fb11e7dc",
   "metadata": {},
   "source": [
    "### url loop test\n",
    "our dataset"
   ]
  },
  {
   "cell_type": "code",
   "execution_count": 140,
   "id": "716bd8d5",
   "metadata": {},
   "outputs": [
    {
     "data": {
      "text/html": [
       "<div>\n",
       "<style scoped>\n",
       "    .dataframe tbody tr th:only-of-type {\n",
       "        vertical-align: middle;\n",
       "    }\n",
       "\n",
       "    .dataframe tbody tr th {\n",
       "        vertical-align: top;\n",
       "    }\n",
       "\n",
       "    .dataframe thead th {\n",
       "        text-align: right;\n",
       "    }\n",
       "</style>\n",
       "<table border=\"1\" class=\"dataframe\">\n",
       "  <thead>\n",
       "    <tr style=\"text-align: right;\">\n",
       "      <th></th>\n",
       "      <th>RT_no</th>\n",
       "      <th>url_id</th>\n",
       "    </tr>\n",
       "  </thead>\n",
       "  <tbody>\n",
       "    <tr>\n",
       "      <th>0</th>\n",
       "      <td>RT-2024071800001</td>\n",
       "      <td>178605168</td>\n",
       "    </tr>\n",
       "    <tr>\n",
       "      <th>1</th>\n",
       "      <td>RT-2024053100001</td>\n",
       "      <td>169619135</td>\n",
       "    </tr>\n",
       "  </tbody>\n",
       "</table>\n",
       "</div>"
      ],
      "text/plain": [
       "              RT_no     url_id\n",
       "0  RT-2024071800001  178605168\n",
       "1  RT-2024053100001  169619135"
      ]
     },
     "execution_count": 140,
     "metadata": {},
     "output_type": "execute_result"
    }
   ],
   "source": [
    "rt_no = ['RT-2024071800001', 'RT-2024053100001']\n",
    "url_id = [178605168, 169619135] #178529912 , ,169775714, 166987718, 166986966, 166986948, 166986667, 166986308\n",
    "\n",
    "\n",
    "invoice_df = pd.DataFrame({'RT_no': rt_no, 'url_id': url_id})\n",
    "invoice_df"
   ]
  },
  {
   "cell_type": "code",
   "execution_count": 162,
   "id": "1609630d",
   "metadata": {},
   "outputs": [
    {
     "data": {
      "text/plain": [
       "[178605168, 169619135]"
      ]
     },
     "execution_count": 162,
     "metadata": {},
     "output_type": "execute_result"
    }
   ],
   "source": [
    "url_id = invoice_df['url_id'].tolist()\n",
    "rt_no = invoice_df['RT_no'].tolist()\n",
    "url_id"
   ]
  },
  {
   "cell_type": "code",
   "execution_count": null,
   "id": "df270401",
   "metadata": {},
   "outputs": [],
   "source": [
    "driver.get(f'https://secure.zortout.com/Sell/Details?&tid={url_id}')"
   ]
  },
  {
   "cell_type": "code",
   "execution_count": 166,
   "id": "b9262ff3",
   "metadata": {},
   "outputs": [],
   "source": [
    "rt_date_list = []\n",
    "rt_no_list = []\n",
    "url_rt_list = []"
   ]
  },
  {
   "cell_type": "code",
   "execution_count": 167,
   "id": "122de0eb",
   "metadata": {
    "scrolled": true
   },
   "outputs": [
    {
     "name": "stdout",
     "output_type": "stream",
     "text": [
      "entry to url : 178605168 successfully\n",
      "Send url to Peak by id = 178605168 successfully\n",
      "Scraping Process by id = 178605168\n",
      "RT-2024071800001\n",
      "RT-2024053100001\n",
      "ใบเสร็จรับเงิน (RT-2024071800001) วันนี้ \n",
      "https://secure.peakengine.com/Pdf?emi=MjYyMzgy&eti=ODQ1MzM5NDc=&eii=Mw==\n",
      "entry to url : 169619135 successfully\n",
      "Send url to Peak by id = 169619135 successfully\n",
      "Scraping Process by id = 169619135\n",
      "RT-2024071800001\n",
      "RT-2024053100001\n",
      "ใบเสร็จรับเงิน (RT-2024053100051) วันนี้ \n",
      "https://secure.peakengine.com/Pdf?emi=MjYyMzgy&eti=ODQ1MzM5OTE=&eii=Mw==\n"
     ]
    }
   ],
   "source": [
    "for url in url_id:\n",
    "    driver.get(f'https://secure.zortout.com/Sell/Details?&tid={url}')\n",
    "    print(f'entry to url : {url} successfully')\n",
    "    try:\n",
    "        driver.find_element(By.XPATH,'//*[@id=\"sell_btnpeak\"]').send_keys(Keys.ENTER)\n",
    "    except:\n",
    "        print('cannot go to button')\n",
    "    try:\n",
    "        driver.find_element(By.XPATH,'//*[@id=\"peakarea\"]/div/ul/li/a').send_keys(Keys.ENTER)\n",
    "        time.sleep(2)\n",
    "    except:\n",
    "        print('cannot send to peak')\n",
    "    try:\n",
    "        driver.find_element(By.XPATH,'//*[@id=\"confirmModal\"]/div/div/div[3]/div/button[2]').send_keys(Keys.ENTER)\n",
    "        time.sleep(5)\n",
    "    except:\n",
    "        print('Error')\n",
    "    print(f'Send url to Peak by id = {url} successfully')\n",
    "    time.sleep(5)\n",
    "    print(f'Scraping Process by id = {url}')\n",
    "    \n",
    "    data = driver.page_source\n",
    "    soup = bs4.BeautifulSoup(data)\n",
    "    # get tag for scraping\n",
    "    dropdown_items = soup.find_all('ul', class_='dropdown-menu sub-nav dropdown-menu-left')\n",
    "    # Find the table within the dropdown menu\n",
    "    for dropdown_item in dropdown_items:\n",
    "        table = dropdown_item.find('table')\n",
    "    # Find RT and url link and keep data in rt_no and url_rt\n",
    "    for row in table.find_all('tr'):\n",
    "        rt_date_list.append(row.text)\n",
    "        rt_number = row.text.split()[1].replace('(',\"\").replace(')',\"\")\n",
    "        url_rt_list.append(row.find('a')['href'])\n",
    "        rt_no_list.append(rt_number)\n",
    "        for rt_number in rt_no:\n",
    "            if rt_number in rt_no:\n",
    "                print(rt_number)\n",
    "            else:\n",
    "                print('error')\n",
    "                break\n",
    "        print(row.text)\n",
    "        print(row.find('a')['href'])\n",
    "        #print(rt_number)\n",
    "        \n",
    "    \n",
    "    \n"
   ]
  },
  {
   "cell_type": "code",
   "execution_count": 37,
   "id": "115719f8",
   "metadata": {},
   "outputs": [],
   "source": [
    "data = driver.page_source\n",
    "    # เปลี่ยนเป็น HTML ด้วยคำสั่ง bs4.BrautifulSoup\n",
    "soup = bs4.BeautifulSoup(data)"
   ]
  },
  {
   "cell_type": "code",
   "execution_count": 69,
   "id": "6dfe355b",
   "metadata": {},
   "outputs": [
    {
     "name": "stdout",
     "output_type": "stream",
     "text": [
      "ใบเสร็จรับเงิน (RT-2024053100051) วันนี้ \n",
      "https://secure.peakengine.com/Pdf?emi=MjYyMzgy&eti=ODQ1MjY4MTQ=&eii=Mw==\n",
      "RT-2024053100051\n"
     ]
    }
   ],
   "source": [
    "#all_rt = soup.find('div', {'class': 'btn-group open'})\n",
    "#all_rt\n",
    "#text = all_rt.find('table').text.strip()\n",
    "#all_rt.find('a')['href']\n",
    "#text\n",
    "#text = text.split(\"ใบเสร็จรับเงิน\")\n",
    "#text\n",
    "\n",
    "dropdown_items = soup.find_all('ul', class_='dropdown-menu sub-nav dropdown-menu-left')\n",
    "\n",
    "for dropdown_item in dropdown_items:\n",
    "    # Find the table within the dropdown menu\n",
    "    table = dropdown_item.find('table')\n",
    "\n",
    "\n",
    "for row in table.find_all('tr'):\n",
    "    print(row.text)\n",
    "    print(row.find('a')['href'])\n",
    "    rt_date_list.append(row.text)\n",
    "    rt_number = row.text.split()[1].replace('(',\"\").replace(')',\"\")\n",
    "    url_rt_list.append(row.find('a')['href'])\n",
    "    rt_no_list.append(rt_number)\n",
    "    print(rt_number)\n",
    "    \n",
    "for rt_number in rt_no_list:\n",
    "        if rt_number not in comparison_data:\n",
    "            print(f\"RT number {rt_number} not found in comparison data. Breaking loop.\")\n",
    "            break"
   ]
  },
  {
   "cell_type": "code",
   "execution_count": 160,
   "id": "f2639a11",
   "metadata": {},
   "outputs": [
    {
     "name": "stdout",
     "output_type": "stream",
     "text": [
      "RT-2024071800001\n",
      "error\n"
     ]
    }
   ],
   "source": [
    "for rt_number in rt_no_list:\n",
    "    if rt_number in rt_no:\n",
    "        print(rt_number)\n",
    "    else:\n",
    "        print('error')\n",
    "        break"
   ]
  },
  {
   "cell_type": "code",
   "execution_count": 161,
   "id": "03df3b09",
   "metadata": {},
   "outputs": [
    {
     "data": {
      "text/plain": [
       "['RT-2024071800001', 'RT-2024053100051']"
      ]
     },
     "execution_count": 161,
     "metadata": {},
     "output_type": "execute_result"
    }
   ],
   "source": [
    "rt_no_list"
   ]
  },
  {
   "cell_type": "markdown",
   "id": "79ab0f54",
   "metadata": {},
   "source": [
    "### test click SO to peak\n",
    "- Test Order : **SO-202407349, 852514492345573**\n",
    "- Order ID : 178605168, 165012403\n",
    "- url : https://secure.zortout.com/Sell/Details?&tid=178605168, https://secure.zortout.com/Sell/Details?&tid=165012403\n",
    "- Sku : ACY1178-01-03[0]\n",
    "- Sale Channel : Head Office[0]\n",
    "- Payment Channel : ส่งเสริมการขาย[0]"
   ]
  },
  {
   "cell_type": "code",
   "execution_count": null,
   "id": "9e04074d",
   "metadata": {},
   "outputs": [],
   "source": [
    "# get url\n",
    "driver.get('https://secure.zortout.com/Sell/Details?&tid=178605168')"
   ]
  },
  {
   "cell_type": "code",
   "execution_count": null,
   "id": "73ba4e1d",
   "metadata": {},
   "outputs": [],
   "source": [
    "# click Accounting\n",
    "driver.find_element(By.XPATH,'//*[@id=\"sell_btnpeak\"]').send_keys(Keys.ENTER)"
   ]
  },
  {
   "cell_type": "code",
   "execution_count": null,
   "id": "613e4085",
   "metadata": {},
   "outputs": [],
   "source": [
    "# Click ส่งข้อมูลใบเสร็จรับเงินไป Peak\n",
    "driver.find_element(By.XPATH,'//*[@id=\"peakarea\"]/div/ul/li/a').send_keys(Keys.ENTER)"
   ]
  },
  {
   "cell_type": "code",
   "execution_count": null,
   "id": "ca0e57f1",
   "metadata": {},
   "outputs": [],
   "source": [
    "# Click ยืนยันเพื่อส่งข้อมูลไป peak\n",
    "driver.find_element(By.XPATH,'//*[@id=\"confirmModal\"]/div/div/div[3]/div/button[2]').send_keys(Keys.ENTER)"
   ]
  },
  {
   "cell_type": "code",
   "execution_count": 165,
   "id": "2f92b9a5",
   "metadata": {},
   "outputs": [],
   "source": [
    "driver.refresh()"
   ]
  },
  {
   "cell_type": "markdown",
   "id": "f45e8203",
   "metadata": {},
   "source": [
    "### loop url ส่งข้อมูลไป peak"
   ]
  },
  {
   "cell_type": "code",
   "execution_count": null,
   "id": "51ee0f19",
   "metadata": {},
   "outputs": [],
   "source": [
    "url_list = [178605168, 165012403]"
   ]
  },
  {
   "cell_type": "code",
   "execution_count": null,
   "id": "becd59c3",
   "metadata": {},
   "outputs": [],
   "source": [
    "for url in url_list:\n",
    "    driver.get(f'https://secure.zortout.com/Sell/Details?&tid={url}')\n",
    "    driver.find_element(By.XPATH,'//*[@id=\"sell_btnpeak\"]').send_keys(Keys.ENTER)\n",
    "    driver.find_element(By.XPATH,'//*[@id=\"peakarea\"]/div/ul/li/a').send_keys(Keys.ENTER)\n",
    "    time.sleep(2)\n",
    "    driver.find_element(By.XPATH,'//*[@id=\"confirmModal\"]/div/div/div[3]/div/button[2]').send_keys(Keys.ENTER)\n",
    "    print(f'entry to url : {url} successfully')\n",
    "    time.sleep(5)"
   ]
  },
  {
   "cell_type": "code",
   "execution_count": 58,
   "id": "ee498228",
   "metadata": {},
   "outputs": [
    {
     "data": {
      "text/plain": [
       "['33947F5542DB0ED175852DBB80516226']"
      ]
     },
     "execution_count": 58,
     "metadata": {},
     "output_type": "execute_result"
    }
   ],
   "source": [
    "driver.window_handles"
   ]
  },
  {
   "cell_type": "code",
   "execution_count": null,
   "id": "72452a7b",
   "metadata": {},
   "outputs": [],
   "source": [
    "driver.title"
   ]
  },
  {
   "cell_type": "code",
   "execution_count": 168,
   "id": "4114430f",
   "metadata": {},
   "outputs": [],
   "source": [
    "driver.close()"
   ]
  },
  {
   "cell_type": "markdown",
   "id": "39613f41",
   "metadata": {},
   "source": [
    "## Test การใส่ sku in promotion"
   ]
  },
  {
   "cell_type": "code",
   "execution_count": null,
   "id": "74ab8b77",
   "metadata": {},
   "outputs": [],
   "source": [
    "driver.get(f'https://secure.zortout.com/Promotion/BundleList')"
   ]
  },
  {
   "cell_type": "code",
   "execution_count": null,
   "id": "3af1c7ef",
   "metadata": {},
   "outputs": [],
   "source": [
    "driver.find_element(By.XPATH,'/html/body/div[4]/section/div[1]/div/div[1]/div[2]/button').send_keys(Keys.ENTER)"
   ]
  },
  {
   "cell_type": "code",
   "execution_count": null,
   "id": "2fe7bb6c",
   "metadata": {},
   "outputs": [],
   "source": []
  }
 ],
 "metadata": {
  "kernelspec": {
   "display_name": "Python 3 (ipykernel)",
   "language": "python",
   "name": "python3"
  },
  "language_info": {
   "codemirror_mode": {
    "name": "ipython",
    "version": 3
   },
   "file_extension": ".py",
   "mimetype": "text/x-python",
   "name": "python",
   "nbconvert_exporter": "python",
   "pygments_lexer": "ipython3",
   "version": "3.11.4"
  }
 },
 "nbformat": 4,
 "nbformat_minor": 5
}
